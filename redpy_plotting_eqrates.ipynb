{
 "cells": [
  {
   "cell_type": "markdown",
   "metadata": {},
   "source": [
    "# REDPy EQ Rate Plot"
   ]
  },
  {
   "cell_type": "code",
   "execution_count": 1,
   "metadata": {},
   "outputs": [],
   "source": [
    "import redpy.config\n",
    "import redpy.table\n",
    "import redpy.plotting\n",
    "#import numpy as np\n"
   ]
  },
  {
   "cell_type": "code",
   "execution_count": 2,
   "metadata": {},
   "outputs": [],
   "source": [
    "from tables import *\n",
    "import numpy as np\n",
    "import matplotlib\n",
    "import datetime\n",
    "matplotlib.use('Agg')\n",
    "import matplotlib.pyplot as plt\n",
    "import matplotlib.dates\n",
    "import time\n",
    "import pandas as pd\n",
    "import redpy.cluster\n",
    "import redpy.correlation\n",
    "from redpy.optics import *\n",
    "import os\n",
    "import shutil\n",
    "import glob\n",
    "import urllib\n",
    "from obspy import UTCDateTime\n",
    "from obspy.geodetics import locations2degrees\n",
    "from obspy.taup import TauPyModel\n",
    "import pandas as pd\n",
    "import cartopy.crs as ccrs\n",
    "import cartopy.io.img_tiles as cimgt\n",
    "from cartopy.mpl.ticker import LongitudeFormatter, LatitudeFormatter\n",
    "from matplotlib.transforms import offset_copy\n",
    "from bokeh.plotting import figure, output_file, save, gridplot\n",
    "from bokeh.models import HoverTool, ColumnDataSource, OpenURL, TapTool, Range1d, Div, Span\n",
    "from bokeh.models import Arrow, VeeHead, ColorBar, LogColorMapper, LogTicker, LabelSet\n",
    "from bokeh.models.glyphs import Line, Quad\n",
    "from bokeh.layouts import column\n",
    "from bokeh.palettes import inferno, all_palettes\n",
    "import urllib.request"
   ]
  },
  {
   "cell_type": "code",
   "execution_count": 3,
   "metadata": {},
   "outputs": [],
   "source": [
    "config = '/Users/jjw2/Development/REDPy_svgfigures/agung_grlB2.cfg'\n",
    "opt = redpy.config.Options(config)\n",
    "h5file, rtable, otable, ttable, ctable, jtable, dtable, ftable = redpy.table.openTable(opt)\n"
   ]
  },
  {
   "cell_type": "code",
   "execution_count": 4,
   "metadata": {},
   "outputs": [],
   "source": [
    "dt = rtable.cols.startTimeMPL[:]\n",
    "fi = np.nanmean(rtable.cols.FI[:], axis=1)\n",
    "longevity = ftable.cols.longevity[:]\n",
    "famstarts = ftable.cols.startTime[:]\n",
    "alltrigs = ttable.cols.startTimeMPL[:]\n",
    "    \n",
    "# Read in annotation file (if it exists)\n",
    "if opt.anotfile != '':\n",
    "    df = pd.read_csv(opt.anotfile)\n",
    "    \n",
    "# Create histogram of events/dybin\n",
    "histT, hT = np.histogram(alltrigs, bins=np.arange(min(alltrigs),\n",
    "    max(alltrigs+opt.dybin), opt.dybin))\n",
    "histR, hR = np.histogram(dt, bins=np.arange(min(alltrigs),\n",
    "    max(alltrigs+opt.dybin), opt.dybin))\n",
    "        \n",
    "# Determine padding for hover bars (~1% of window range on each side)\n",
    "barpad = (max(alltrigs)-min(alltrigs))*0.01\n",
    "barpadr = opt.recplot*0.01\n",
    "        \n",
    "# Create histogram of events/hrbin\n",
    "histTr, hTr = np.histogram(alltrigs, bins=np.arange(max(alltrigs)-opt.recplot,\n",
    "    max(alltrigs+opt.hrbin/24), opt.hrbin/24))\n",
    "histRr, hRr = np.histogram(dt, bins=np.arange(max(alltrigs)-opt.recplot,\n",
    "    max(alltrigs+opt.hrbin/24), opt.hrbin/24))"
   ]
  },
  {
   "cell_type": "code",
   "execution_count": null,
   "metadata": {},
   "outputs": [],
   "source": []
  },
  {
   "cell_type": "markdown",
   "metadata": {},
   "source": [
    "## bokeh EQ rate"
   ]
  },
  {
   "cell_type": "code",
   "execution_count": 5,
   "metadata": {},
   "outputs": [],
   "source": [
    "oTOOLS = ['pan,box_zoom,reset,save,tap']\n",
    "    \n",
    "if opt.dybin>=1:\n",
    "    o0title = 'Repeaters vs. Orphans by {:.1f} Day Bin'.format(opt.dybin)\n",
    "else:\n",
    "    o0title = 'Repeaters vs. Orphans by {:.1f} Hour Bin'.format(opt.dybin*24)\n",
    "    \n",
    "o0 = figure(tools=oTOOLS, plot_width=1250, plot_height=250, x_axis_type='datetime',\n",
    "    title=o0title)\n",
    "o0.grid.grid_line_alpha = 0.3\n",
    "o0.xaxis.axis_label = 'Date'\n",
    "o0.yaxis.axis_label = 'Events'\n",
    "\n",
    "o0 = figure(tools=oTOOLS, plot_width=1250, plot_height=250, x_axis_type='datetime',\n",
    "    title=o0title)\n",
    "o0.grid.grid_line_alpha = 0.3\n",
    "o0.xaxis.axis_label = 'Date'\n",
    "o0.yaxis.axis_label = 'Events'\n",
    "    \n",
    "if opt.anotfile != '':\n",
    "    for row in df.itertuples():\n",
    "        spantime = (datetime.datetime.strptime(row[1]\n",
    "            ,'%Y-%m-%dT%H:%M:%S')-datetime.datetime(1970, 1, 1)).total_seconds()\n",
    "        o0.add_layout(Span(location=spantime*1000, dimension='height',\n",
    "            line_color=row[2], line_width=row[3], line_dash=row[4],\n",
    "            line_alpha=row[5]))\n",
    "    \n",
    "o0.line(matplotlib.dates.num2date(hT[0:-1]+opt.dybin/2), histT-histR, color='black',\n",
    "    legend='Orphans')\n",
    "o0.line(matplotlib.dates.num2date(hR[0:-1]+opt.dybin/2), histR, color='red',\n",
    "    legend='Repeaters', line_width=2)\n",
    "o0.legend.location = 'top_left'\n"
   ]
  },
  {
   "cell_type": "code",
   "execution_count": 6,
   "metadata": {},
   "outputs": [],
   "source": [
    "#from bokeh.io import show\n",
    "#show(o0)"
   ]
  },
  {
   "cell_type": "markdown",
   "metadata": {},
   "source": [
    "## matplotlib EQ rates"
   ]
  },
  {
   "cell_type": "code",
   "execution_count": 20,
   "metadata": {},
   "outputs": [
    {
     "data": {
      "image/png": "[encoded data removed]",
      "text/plain": [
       "<matplotlib.figure.Figure at 0x7ff559e53748>"
      ]
     },
     "metadata": {
      "needs_background": "light"
     },
     "output_type": "display_data"
    }
   ],
   "source": [
    "%matplotlib inline\n",
    "import matplotlib.pyplot as plt\n",
    "from matplotlib.collections import EventCollection\n",
    "import numpy as np\n",
    "import matplotlib.dates as mdates\n",
    "\n",
    "\n",
    "fig = plt.figure(figsize=[6.4,2], tight_layout=True)\n",
    "ax = fig.add_subplot(1,1,1)\n",
    "ax.plot(matplotlib.dates.num2date(hT[0:-1]+opt.dybin/2), histT, color='black', label='All EQs')\n",
    "#ax.plot(matplotlib.dates.num2date(hT[0:-1]+opt.dybin/2), histT-histR, color='black', label='Orphans')\n",
    "ax.plot(matplotlib.dates.num2date(hR[0:-1]+opt.dybin/2), histR, color='red', linewidth=2, label='Repeaters')\n",
    "plt.xlabel('Date', fontname='Times', fontsize=10)\n",
    "plt.ylabel('N EQs', fontname='Times', fontsize=10)\n",
    "plt.title('Daily Counts (Repeaters & Orphans)', fontsize=10)\n",
    "ax.tick_params(axis='both', which='major', labelsize=10)\n",
    "# ax.xaxis.label.set_size(28)\n",
    "plt.yticks([0,500,1000])\n",
    "ax.set_ylim([0,1000])\n",
    "ax.legend()\n",
    "\n",
    "import pandas as pd\n",
    "drng = pd.date_range(start='2017/11/1', end='2018/2/1', freq='MS')\n",
    "xticks = drng.to_pydatetime()\n",
    "xtick_labels = list(drng.strftime('%Y %b'))\n",
    "plt.xticks(xticks, xtick_labels)\n",
    "\n",
    "fig.show()"
   ]
  },
  {
   "cell_type": "code",
   "execution_count": 21,
   "metadata": {},
   "outputs": [],
   "source": [
    "fig.savefig('/Users/jjw2/Desktop/TestFigure.png', dpi=450, facecolor=None, edgecolor=None,\n",
    "        orientation='portrait', papertype=None,\n",
    "        transparent=True, bbox_inches=None, pad_inches=0,\n",
    "        frameon=None, metadata=None)"
   ]
  },
  {
   "cell_type": "code",
   "execution_count": null,
   "metadata": {},
   "outputs": [],
   "source": []
  },
  {
   "cell_type": "code",
   "execution_count": null,
   "metadata": {},
   "outputs": [],
   "source": []
  },
  {
   "cell_type": "code",
   "execution_count": null,
   "metadata": {},
   "outputs": [],
   "source": []
  }
 ],
 "metadata": {
  "kernelspec": {
   "display_name": "Python 3",
   "language": "python",
   "name": "python3"
  },
  "language_info": {
   "codemirror_mode": {
    "name": "ipython",
    "version": 3
   },
   "file_extension": ".py",
   "mimetype": "text/x-python",
   "name": "python",
   "nbconvert_exporter": "python",
   "pygments_lexer": "ipython3",
   "version": "3.5.6"
  }
 },
 "nbformat": 4,
 "nbformat_minor": 4
}
