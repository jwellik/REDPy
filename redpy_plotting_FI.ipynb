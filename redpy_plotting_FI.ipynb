{
 "cells": [
  {
   "cell_type": "markdown",
   "metadata": {},
   "source": [
    "# REDPy EQ Rate Plot"
   ]
  },
  {
   "cell_type": "code",
   "execution_count": null,
   "metadata": {},
   "outputs": [],
   "source": [
    "import redpy.config\n",
    "import redpy.table\n",
    "import redpy.plotting\n",
    "#import numpy as np\n"
   ]
  },
  {
   "cell_type": "code",
   "execution_count": null,
   "metadata": {},
   "outputs": [],
   "source": [
    "from tables import *\n",
    "import numpy as np\n",
    "import matplotlib\n",
    "import datetime\n",
    "matplotlib.use('Agg')\n",
    "import matplotlib.pyplot as plt\n",
    "import matplotlib.dates\n",
    "import time\n",
    "import pandas as pd\n",
    "import redpy.cluster\n",
    "import redpy.correlation\n",
    "from redpy.optics import *\n",
    "import os\n",
    "import shutil\n",
    "import glob\n",
    "import urllib\n",
    "from obspy import UTCDateTime\n",
    "from obspy.geodetics import locations2degrees\n",
    "from obspy.taup import TauPyModel\n",
    "import pandas as pd\n",
    "import cartopy.crs as ccrs\n",
    "import cartopy.io.img_tiles as cimgt\n",
    "from cartopy.mpl.ticker import LongitudeFormatter, LatitudeFormatter\n",
    "from matplotlib.transforms import offset_copy\n",
    "from bokeh.plotting import figure, output_file, save, gridplot\n",
    "from bokeh.models import HoverTool, ColumnDataSource, OpenURL, TapTool, Range1d, Div, Span\n",
    "from bokeh.models import Arrow, VeeHead, ColorBar, LogColorMapper, LogTicker, LabelSet\n",
    "from bokeh.models.glyphs import Line, Quad\n",
    "from bokeh.layouts import column\n",
    "from bokeh.palettes import inferno, all_palettes\n",
    "import urllib.request"
   ]
  },
  {
   "cell_type": "code",
   "execution_count": null,
   "metadata": {},
   "outputs": [],
   "source": [
    "config = '/Users/jaywellik/Development/REDPy_svgfigures/agung_grlB2.cfg'\n",
    "opt = redpy.config.Options(config)\n",
    "h5file, rtable, otable, ttable, ctable, jtable, dtable, ftable = redpy.table.openTable(opt)\n"
   ]
  },
  {
   "cell_type": "code",
   "execution_count": null,
   "metadata": {},
   "outputs": [],
   "source": [
    "dt = rtable.cols.startTimeMPL[:]\n",
    "ot = otable.cols.startTimeMPL[:]\n",
    "fi = np.nanmean(rtable.cols.FI[:], axis=1)\n",
    "fio = np.nanmean(otable.cols.FI[:], axis=1)\n",
    "longevity = ftable.cols.longevity[:]\n",
    "famstarts = ftable.cols.startTime[:]\n",
    "alltrigs = ttable.cols.startTimeMPL[:]\n",
    "trigrange = [ttable.cols.startTimeMPL[0], ttable.cols.startTimeMPL[-1]]\n",
    "    \n",
    "# Read in annotation file (if it exists)\n",
    "if opt.anotfile != '':\n",
    "    df = pd.read_csv(opt.anotfile)\n",
    "    \n",
    "# Create histogram of events/dybin\n",
    "histT, hT = np.histogram(alltrigs, bins=np.arange(min(alltrigs),\n",
    "    max(alltrigs+opt.dybin), opt.dybin))\n",
    "histR, hR = np.histogram(dt, bins=np.arange(min(alltrigs),\n",
    "    max(alltrigs+opt.dybin), opt.dybin))\n",
    "        \n",
    "# Determine padding for hover bars (~1% of window range on each side)\n",
    "barpad = (max(alltrigs)-min(alltrigs))*0.01\n",
    "barpadr = opt.recplot*0.01\n",
    "        \n",
    "# Create histogram of events/hrbin\n",
    "histTr, hTr = np.histogram(alltrigs, bins=np.arange(max(alltrigs)-opt.recplot,\n",
    "    max(alltrigs+opt.hrbin/24), opt.hrbin/24))\n",
    "histRr, hRr = np.histogram(dt, bins=np.arange(max(alltrigs)-opt.recplot,\n",
    "    max(alltrigs+opt.hrbin/24), opt.hrbin/24))"
   ]
  },
  {
   "cell_type": "code",
   "execution_count": null,
   "metadata": {},
   "outputs": [],
   "source": []
  },
  {
   "cell_type": "markdown",
   "metadata": {},
   "source": [
    "## bokeh EQ rate"
   ]
  },
  {
   "cell_type": "code",
   "execution_count": null,
   "metadata": {},
   "outputs": [],
   "source": [
    "\n",
    "oTOOLS = ['pan,box_zoom,reset,save,tap']\n",
    "\n",
    "\n",
    "o1 = figure(tools=oTOOLS, plot_width=1250, plot_height=250, x_axis_type='datetime',\n",
    "    #x_range=o0.x_range,\n",
    "    title='Frequency Index')\n",
    "o1.grid.grid_line_alpha = 0.3\n",
    "o1.xaxis.axis_label = 'Date'\n",
    "o1.yaxis.axis_label = 'FI'\n",
    "    \n",
    "if opt.anotfile != '':\n",
    "    for row in df.itertuples():\n",
    "        spantime = (datetime.datetime.strptime(row[1]\n",
    "            ,'%Y-%m-%dT%H:%M:%S')-datetime.datetime(1970, 1, 1)).total_seconds()\n",
    "        o1.add_layout(Span(location=spantime*1000, dimension='height',\n",
    "            line_color=row[2], line_width=row[3], line_dash=row[4],\n",
    "            line_alpha=row[5]))\n",
    "o1.circle(matplotlib.dates.num2date(dt), fi, color='red', line_alpha=0,\n",
    "    size=3, fill_alpha=0.5)\n",
    "        \n",
    "o1r = figure(tools=oTOOLS, plot_width=1250, plot_height=250, x_axis_type='datetime',\n",
    "    #x_range=o0r.x_range,\n",
    "    title='Frequency Index')\n",
    "o1r.grid.grid_line_alpha = 0.3\n",
    "o1r.xaxis.axis_label = 'Date'\n",
    "o1r.yaxis.axis_label = 'FI'\n",
    "    \n",
    "if opt.anotfile != '':\n",
    "    for row in df.itertuples():\n",
    "        spantime = (datetime.datetime.strptime(row[1]\n",
    "            ,'%Y-%m-%dT%H:%M:%S')-datetime.datetime(1970, 1, 1)).total_seconds()\n",
    "        o1r.add_layout(Span(location=spantime*1000, dimension='height',\n",
    "            line_color=row[2], line_width=row[3], line_dash=row[4],\n",
    "            line_alpha=row[5]))\n",
    "# Put invisible points in for case that there are no events\n",
    "o1r.circle(matplotlib.dates.num2date(hTr[0:2]), [1, 1], line_alpha=0, fill_alpha=0)\n",
    "o1r.circle(matplotlib.dates.num2date(dt[dt>(max(alltrigs)-opt.recplot)]),\n",
    "    fi[dt>(max(alltrigs)-opt.recplot)], color='red', line_alpha=0,\n",
    "    size=3, fill_alpha=0.5)\n"
   ]
  },
  {
   "cell_type": "code",
   "execution_count": null,
   "metadata": {},
   "outputs": [],
   "source": [
    "from bokeh.io import show\n",
    "show(o1)"
   ]
  },
  {
   "cell_type": "markdown",
   "metadata": {},
   "source": [
    "## matplotlib EQ rates"
   ]
  },
  {
   "cell_type": "code",
   "execution_count": null,
   "metadata": {},
   "outputs": [],
   "source": [
    "%matplotlib inline\n",
    "import matplotlib.pyplot as plt\n",
    "from matplotlib.collections import EventCollection\n",
    "import numpy as np\n",
    "import matplotlib.dates as mdates\n",
    "\n",
    "\n",
    "fig = plt.figure(figsize=[6.4,2], tight_layout=True)\n",
    "ax = fig.add_subplot(1,1,1)\n",
    "\n",
    "x1 = matplotlib.dates.num2date(ot)\n",
    "x2 = matplotlib.dates.num2date(dt)\n",
    "y1 = fio\n",
    "y2 = fi\n",
    "#ax.plot(x1,y1, 'ko', label='Orphans', alpha=0.5)\n",
    "#ax.plot(x2,y2, 'ro', label='Repeaters', alpha=0.5)\n",
    "ax.scatter(x1,y1, c='k', marker='o', s=10, label='Orphans', alpha=0.5)\n",
    "ax.scatter(x2,y2, c='r', marker='o', s=10, label='Repeaters', alpha=0.5)\n",
    "\n",
    "plt.xlabel('Date', fontname='Times', fontsize=10)\n",
    "plt.ylabel('FI', fontname='Times', fontsize=10)\n",
    "plt.title('Frequency Index', fontsize=10)\n",
    "ax.tick_params(axis='both', which='major', labelsize=10)\n",
    "# ax.xaxis.label.set_size(28)\n",
    "plt.yticks([-1,0,1])\n",
    "ax.set_xlim(trigrange)\n",
    "ax.set_ylim([-1,1])\n",
    "ax.legend()\n",
    "\n",
    "import pandas as pd\n",
    "drng = pd.date_range(start='2017/11/1', end='2018/1/15', freq='MS')\n",
    "xticks = drng.to_pydatetime()\n",
    "xtick_labels = list(drng.strftime('%Y %b'))\n",
    "plt.xticks(xticks, xtick_labels)\n",
    "\n",
    "fig.show()"
   ]
  },
  {
   "cell_type": "code",
   "execution_count": null,
   "metadata": {},
   "outputs": [],
   "source": []
  },
  {
   "cell_type": "code",
   "execution_count": null,
   "metadata": {},
   "outputs": [],
   "source": [
    "fig.savefig('/Users/jaywellik/Desktop/TestFigure_FI.png', dpi=450, facecolor=None, edgecolor=None,\n",
    "        orientation='portrait', papertype=None,\n",
    "        transparent=True, bbox_inches=None, pad_inches=0,\n",
    "        frameon=None, metadata=None)"
   ]
  },
  {
   "cell_type": "code",
   "execution_count": null,
   "metadata": {},
   "outputs": [],
   "source": []
  },
  {
   "cell_type": "code",
   "execution_count": null,
   "metadata": {},
   "outputs": [],
   "source": []
  },
  {
   "cell_type": "code",
   "execution_count": null,
   "metadata": {},
   "outputs": [],
   "source": []
  }
 ],
 "metadata": {
  "kernelspec": {
   "display_name": "Python 3",
   "language": "python",
   "name": "python3"
  },
  "language_info": {
   "codemirror_mode": {
    "name": "ipython",
    "version": 3
   },
   "file_extension": ".py",
   "mimetype": "text/x-python",
   "name": "python",
   "nbconvert_exporter": "python",
   "pygments_lexer": "ipython3",
   "version": "3.5.5"
  }
 },
 "nbformat": 4,
 "nbformat_minor": 4
}
